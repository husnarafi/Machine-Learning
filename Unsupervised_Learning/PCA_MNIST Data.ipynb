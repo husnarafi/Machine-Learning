{
 "cells": [
  {
   "cell_type": "markdown",
   "metadata": {},
   "source": [
    "### Your Turn\n",
    "\n",
    "In the previous video, you saw an example of working with some MNIST digits data.  The MNIST dataset can be found here: http://yann.lecun.com/exdb/mnist/.\n",
    "\n",
    "First, let's import the necessary libraries.  Notice there are also some imports from a file called `helper_functions`, which contains the functions used in the previous video."
   ]
  },
  {
   "cell_type": "code",
   "execution_count": 28,
   "metadata": {},
   "outputs": [],
   "source": [
    "import pandas as pd\n",
    "import numpy as np\n",
    "from sklearn.decomposition import PCA\n",
    "from sklearn.preprocessing import StandardScaler\n",
    "from sklearn.ensemble import RandomForestClassifier\n",
    "from sklearn.model_selection import train_test_split\n",
    "from sklearn.metrics import confusion_matrix, accuracy_score\n",
    "from helper_functions import show_images, show_images_by_digit, fit_random_forest_classifier2 \n",
    "from helper_functions import fit_random_forest_classifier, do_pca, plot_components\n",
    "import test_code as t\n",
    "\n",
    "import matplotlib.image as mpimg\n",
    "import matplotlib.pyplot as plt\n",
    "import seaborn as sns\n",
    "\n",
    "%matplotlib inline"
   ]
  },
  {
   "cell_type": "markdown",
   "metadata": {},
   "source": [
    "`1.` Use pandas to read in the dataset, which can be found in this workspace using the filepath **'./data/train.csv'**.  If you have missing values, fill them with 0.  Take a look at info about the data using `head`, `tail`, `describe`, `info`, etc.  You can learn more about the data values from the article here: https://homepages.inf.ed.ac.uk/rbf/HIPR2/value.htm."
   ]
  },
  {
   "cell_type": "code",
   "execution_count": 29,
   "metadata": {},
   "outputs": [],
   "source": [
    "df = pd.read_csv('./data/train.csv')\n",
    "df.fillna(0, inplace=True)"
   ]
  },
  {
   "cell_type": "markdown",
   "metadata": {},
   "source": [
    "`2.` Create a vector called y that holds the **label** column of the dataset.  Store all other columns holding the pixel data of your images in X."
   ]
  },
  {
   "cell_type": "code",
   "execution_count": 30,
   "metadata": {},
   "outputs": [
    {
     "data": {
      "text/html": [
       "<div>\n",
       "<style scoped>\n",
       "    .dataframe tbody tr th:only-of-type {\n",
       "        vertical-align: middle;\n",
       "    }\n",
       "\n",
       "    .dataframe tbody tr th {\n",
       "        vertical-align: top;\n",
       "    }\n",
       "\n",
       "    .dataframe thead th {\n",
       "        text-align: right;\n",
       "    }\n",
       "</style>\n",
       "<table border=\"1\" class=\"dataframe\">\n",
       "  <thead>\n",
       "    <tr style=\"text-align: right;\">\n",
       "      <th></th>\n",
       "      <th>label</th>\n",
       "      <th>pixel0</th>\n",
       "      <th>pixel1</th>\n",
       "      <th>pixel2</th>\n",
       "      <th>pixel3</th>\n",
       "      <th>pixel4</th>\n",
       "      <th>pixel5</th>\n",
       "      <th>pixel6</th>\n",
       "      <th>pixel7</th>\n",
       "      <th>pixel8</th>\n",
       "      <th>...</th>\n",
       "      <th>pixel774</th>\n",
       "      <th>pixel775</th>\n",
       "      <th>pixel776</th>\n",
       "      <th>pixel777</th>\n",
       "      <th>pixel778</th>\n",
       "      <th>pixel779</th>\n",
       "      <th>pixel780</th>\n",
       "      <th>pixel781</th>\n",
       "      <th>pixel782</th>\n",
       "      <th>pixel783</th>\n",
       "    </tr>\n",
       "  </thead>\n",
       "  <tbody>\n",
       "    <tr>\n",
       "      <th>0</th>\n",
       "      <td>1</td>\n",
       "      <td>0</td>\n",
       "      <td>0</td>\n",
       "      <td>0</td>\n",
       "      <td>0</td>\n",
       "      <td>0</td>\n",
       "      <td>0</td>\n",
       "      <td>0</td>\n",
       "      <td>0</td>\n",
       "      <td>0</td>\n",
       "      <td>...</td>\n",
       "      <td>0.0</td>\n",
       "      <td>0.0</td>\n",
       "      <td>0.0</td>\n",
       "      <td>0.0</td>\n",
       "      <td>0.0</td>\n",
       "      <td>0.0</td>\n",
       "      <td>0.0</td>\n",
       "      <td>0.0</td>\n",
       "      <td>0.0</td>\n",
       "      <td>0.0</td>\n",
       "    </tr>\n",
       "    <tr>\n",
       "      <th>1</th>\n",
       "      <td>0</td>\n",
       "      <td>0</td>\n",
       "      <td>0</td>\n",
       "      <td>0</td>\n",
       "      <td>0</td>\n",
       "      <td>0</td>\n",
       "      <td>0</td>\n",
       "      <td>0</td>\n",
       "      <td>0</td>\n",
       "      <td>0</td>\n",
       "      <td>...</td>\n",
       "      <td>0.0</td>\n",
       "      <td>0.0</td>\n",
       "      <td>0.0</td>\n",
       "      <td>0.0</td>\n",
       "      <td>0.0</td>\n",
       "      <td>0.0</td>\n",
       "      <td>0.0</td>\n",
       "      <td>0.0</td>\n",
       "      <td>0.0</td>\n",
       "      <td>0.0</td>\n",
       "    </tr>\n",
       "    <tr>\n",
       "      <th>2</th>\n",
       "      <td>1</td>\n",
       "      <td>0</td>\n",
       "      <td>0</td>\n",
       "      <td>0</td>\n",
       "      <td>0</td>\n",
       "      <td>0</td>\n",
       "      <td>0</td>\n",
       "      <td>0</td>\n",
       "      <td>0</td>\n",
       "      <td>0</td>\n",
       "      <td>...</td>\n",
       "      <td>0.0</td>\n",
       "      <td>0.0</td>\n",
       "      <td>0.0</td>\n",
       "      <td>0.0</td>\n",
       "      <td>0.0</td>\n",
       "      <td>0.0</td>\n",
       "      <td>0.0</td>\n",
       "      <td>0.0</td>\n",
       "      <td>0.0</td>\n",
       "      <td>0.0</td>\n",
       "    </tr>\n",
       "    <tr>\n",
       "      <th>3</th>\n",
       "      <td>4</td>\n",
       "      <td>0</td>\n",
       "      <td>0</td>\n",
       "      <td>0</td>\n",
       "      <td>0</td>\n",
       "      <td>0</td>\n",
       "      <td>0</td>\n",
       "      <td>0</td>\n",
       "      <td>0</td>\n",
       "      <td>0</td>\n",
       "      <td>...</td>\n",
       "      <td>0.0</td>\n",
       "      <td>0.0</td>\n",
       "      <td>0.0</td>\n",
       "      <td>0.0</td>\n",
       "      <td>0.0</td>\n",
       "      <td>0.0</td>\n",
       "      <td>0.0</td>\n",
       "      <td>0.0</td>\n",
       "      <td>0.0</td>\n",
       "      <td>0.0</td>\n",
       "    </tr>\n",
       "    <tr>\n",
       "      <th>4</th>\n",
       "      <td>0</td>\n",
       "      <td>0</td>\n",
       "      <td>0</td>\n",
       "      <td>0</td>\n",
       "      <td>0</td>\n",
       "      <td>0</td>\n",
       "      <td>0</td>\n",
       "      <td>0</td>\n",
       "      <td>0</td>\n",
       "      <td>0</td>\n",
       "      <td>...</td>\n",
       "      <td>0.0</td>\n",
       "      <td>0.0</td>\n",
       "      <td>0.0</td>\n",
       "      <td>0.0</td>\n",
       "      <td>0.0</td>\n",
       "      <td>0.0</td>\n",
       "      <td>0.0</td>\n",
       "      <td>0.0</td>\n",
       "      <td>0.0</td>\n",
       "      <td>0.0</td>\n",
       "    </tr>\n",
       "  </tbody>\n",
       "</table>\n",
       "<p>5 rows × 785 columns</p>\n",
       "</div>"
      ],
      "text/plain": [
       "   label  pixel0  pixel1  pixel2  pixel3  pixel4  pixel5  pixel6  pixel7  \\\n",
       "0      1       0       0       0       0       0       0       0       0   \n",
       "1      0       0       0       0       0       0       0       0       0   \n",
       "2      1       0       0       0       0       0       0       0       0   \n",
       "3      4       0       0       0       0       0       0       0       0   \n",
       "4      0       0       0       0       0       0       0       0       0   \n",
       "\n",
       "   pixel8    ...     pixel774  pixel775  pixel776  pixel777  pixel778  \\\n",
       "0       0    ...          0.0       0.0       0.0       0.0       0.0   \n",
       "1       0    ...          0.0       0.0       0.0       0.0       0.0   \n",
       "2       0    ...          0.0       0.0       0.0       0.0       0.0   \n",
       "3       0    ...          0.0       0.0       0.0       0.0       0.0   \n",
       "4       0    ...          0.0       0.0       0.0       0.0       0.0   \n",
       "\n",
       "   pixel779  pixel780  pixel781  pixel782  pixel783  \n",
       "0       0.0       0.0       0.0       0.0       0.0  \n",
       "1       0.0       0.0       0.0       0.0       0.0  \n",
       "2       0.0       0.0       0.0       0.0       0.0  \n",
       "3       0.0       0.0       0.0       0.0       0.0  \n",
       "4       0.0       0.0       0.0       0.0       0.0  \n",
       "\n",
       "[5 rows x 785 columns]"
      ]
     },
     "execution_count": 30,
     "metadata": {},
     "output_type": "execute_result"
    }
   ],
   "source": [
    "y= df['label']\n",
    "X = df.drop(\"label\", axis =1)\n",
    "\n",
    "df.head(5)\n"
   ]
  },
  {
   "cell_type": "code",
   "execution_count": 31,
   "metadata": {},
   "outputs": [
    {
     "name": "stdout",
     "output_type": "stream",
     "text": [
      "That looks right!\n"
     ]
    }
   ],
   "source": [
    "#Check Your Solution \n",
    "t.question_two_check(y, X)"
   ]
  },
  {
   "cell_type": "markdown",
   "metadata": {},
   "source": [
    "`3.` Now use the `show_images_by_digit` function from the `helper_functions` module to take a look some of the `1`'s, `2`'s, `3`'s, or any other value you are interested in looking at.  Do they all look like what you would expect?"
   ]
  },
  {
   "cell_type": "code",
   "execution_count": 32,
   "metadata": {},
   "outputs": [
    {
     "name": "stderr",
     "output_type": "stream",
     "text": [
      "/home/workspace/helper_functions.py:63: FutureWarning: Method .as_matrix will be removed in a future version. Use .values instead.\n",
      "  mat_data = X.iloc[indices[0][digit_num]].as_matrix().reshape(28,28)  #reshape images\n"
     ]
    },
    {
     "data": {
      "image/png": "[encoded data removed]",
      "text/plain": [
       "<matplotlib.figure.Figure at 0x7f56efe94940>"
      ]
     },
     "metadata": {},
     "output_type": "display_data"
    }
   ],
   "source": [
    "show_images_by_digit(7) # Try looking at a few other digits"
   ]
  },
  {
   "cell_type": "markdown",
   "metadata": {},
   "source": [
    "`4.` Now that you have had a chance to look through some of the data, you can try some different algorithms to see what works well to use the X matrix to predict the response well.  If you would like to use the function I used in the video regarding random forests, you can run the code below, but you might also try any of the supervised techniques you learned in the previous course to see what works best.\n",
    "\n",
    "If you decide to put together your own classifier, remember the 4 steps to this process:\n",
    "\n",
    "**I.** Instantiate your model. (with all the hyperparameter values you care about)\n",
    "\n",
    "**II.** Fit your model. (to the training data)\n",
    "\n",
    "**III.** Predict using your fitted model.  (on the test data)\n",
    "\n",
    "**IV.** Score your model. (comparing the predictions to the actual values on the test data)\n",
    "\n",
    "You can also try a grid search to see if you can improve on your initial predictions."
   ]
  },
  {
   "cell_type": "code",
   "execution_count": 33,
   "metadata": {},
   "outputs": [
    {
     "name": "stdout",
     "output_type": "stream",
     "text": [
      "[[202   0   1   0   0   0   5   0   1   0]\n",
      " [  0 234   3   0   0   0   1   2   3   0]\n",
      " [  0   5 214   1   1   1   1   4   0   1]\n",
      " [  2   0   5 176   0   4   0   1   1   2]\n",
      " [  1   0   1   0 164   0   3   1   1   7]\n",
      " [  2   1   0   3   1 172   4   0   2   1]\n",
      " [  3   0   1   0   3   2 202   0   0   0]\n",
      " [  0   1   7   1   3   0   2 207   1   3]\n",
      " [  0   1   2   6   0   3   0   1 187   2]\n",
      " [  2   1   2   2  11   1   0   2   6 181]]\n",
      "0.931763575204\n"
     ]
    },
    {
     "data": {
      "text/plain": [
       "0.9317635752042287"
      ]
     },
     "execution_count": 33,
     "metadata": {},
     "output_type": "execute_result"
    }
   ],
   "source": [
    "# Remove the tag to fit the RF model from the video, you can also try fitting your own!\n",
    "fit_random_forest_classifier(X, y)\n",
    "\n"
   ]
  },
  {
   "cell_type": "markdown",
   "metadata": {},
   "source": [
    "`5.` Now for the purpose of this lesson, to look at PCA.  In the video, I created a model just using two features.  Replicate the process below. You can use the same `do_pca` function that was created in the previous video.  Store your variables in **pca** and **X_pca**."
   ]
  },
  {
   "cell_type": "code",
   "execution_count": 35,
   "metadata": {},
   "outputs": [],
   "source": [
    "pca, X_pca = do_pca(2, X)"
   ]
  },
  {
   "cell_type": "markdown",
   "metadata": {},
   "source": [
    "`6.` The **X_pca** has reduced the original number of more than 700 features down to only 2 features that capture the majority of the variability in the pixel values.  Use the space below to fit a model using these two features to predict the written value.  You can use the random forest model by running `fit_random_forest_classifier` the same way as in the video. How well does it perform?"
   ]
  },
  {
   "cell_type": "code",
   "execution_count": 36,
   "metadata": {},
   "outputs": [
    {
     "name": "stdout",
     "output_type": "stream",
     "text": [
      "[[201   0   1   0   0   0   7   0   0   0]\n",
      " [  0 234   3   0   0   0   1   2   3   0]\n",
      " [  1   3 216   0   1   0   2   4   0   1]\n",
      " [  1   0   6 175   0   5   0   1   1   2]\n",
      " [  0   0   3   0 168   0   3   1   0   3]\n",
      " [  3   2   0   5   0 171   4   0   1   0]\n",
      " [  2   0   0   0   1   1 207   0   0   0]\n",
      " [  0   0   7   1   4   0   0 206   2   5]\n",
      " [  0   2   1   5   1   1   0   0 189   3]\n",
      " [  2   0   1   3  10   1   0   0   3 188]]\n",
      "0.939452186449\n"
     ]
    },
    {
     "data": {
      "text/plain": [
       "0.93945218644882267"
      ]
     },
     "execution_count": 36,
     "metadata": {},
     "output_type": "execute_result"
    }
   ],
   "source": [
    "fit_random_forest_classifier(X, y)"
   ]
  },
  {
   "cell_type": "markdown",
   "metadata": {},
   "source": [
    "`7.` Now you can look at the separation of the values using the `plot_components` function.  If you plot all of the points (more than 40,000), you will likely not be able to see much of what is happening.  I recommend plotting just a subset of the data.  Which value(s) have some separation that are being predicted better than others based on these two components?"
   ]
  },
  {
   "cell_type": "code",
   "execution_count": 37,
   "metadata": {},
   "outputs": [
    {
     "data": {
      "image/png": "[encoded data removed]",
      "text/plain": [
       "<matplotlib.figure.Figure at 0x7f56e9a0eb70>"
      ]
     },
     "metadata": {},
     "output_type": "display_data"
    }
   ],
   "source": [
    "# Try plotting some of the numbers below - you can change the number\n",
    "# of digits that are plotted, but it is probably best not to plot the \n",
    "# entire dataset.  Your visual will not be readable.\n",
    "\n",
    "plot_components(X_pca[:100], y[:100])"
   ]
  },
  {
   "cell_type": "markdown",
   "metadata": {},
   "source": [
    "`8.` See if you can find a reduced number of features that provides better separation to make predictions.  Say you want to get separation that allows for accuracy of more than 90%, how many principal components are needed to obtain this level of accuracy?  Were you able to substantially reduce the number of features needed in your final model?"
   ]
  },
  {
   "cell_type": "code",
   "execution_count": 38,
   "metadata": {},
   "outputs": [
    {
     "name": "stdout",
     "output_type": "stream",
     "text": [
      "[[195   0   3   0   0   0   8   1   1   1]\n",
      " [  0 234   2   0   0   1   2   0   4   0]\n",
      " [  2   3 208   6   2   0   1   3   3   0]\n",
      " [  0   0   6 168   0   7   0   1   6   3]\n",
      " [  0   0   4   0 159   0   4   1   0  10]\n",
      " [  1   0   2   8   0 169   0   0   4   2]\n",
      " [  5   0   1   0   2   1 200   0   2   0]\n",
      " [  0   1   6   1   5   0   1 194   3  14]\n",
      " [  2   2   0  12   1  10   1   0 173   1]\n",
      " [  2   0   2   3  21   0   0  10   2 168]]\n",
      "0.897645362806\n",
      "[[193   0   3   1   0   2   7   1   1   1]\n",
      " [  0 234   2   0   0   0   2   0   4   1]\n",
      " [  2   2 208   5   2   0   3   3   3   0]\n",
      " [  0   0  10 165   0   6   0   2   6   2]\n",
      " [  0   0   2   0 155   1   5   1   0  14]\n",
      " [  1   0   2   7   3 163   0   0   6   4]\n",
      " [  5   0   2   0   3   1 200   0   0   0]\n",
      " [  2   1   6   2   4   0   1 188   5  16]\n",
      " [  2   2   1   9   1   7   0   0 178   2]\n",
      " [  2   0   2   2  15   0   0  12   3 172]]\n",
      "0.891878904373\n",
      "[[190   0   3   0   0   2   9   2   1   2]\n",
      " [  0 234   2   1   0   0   2   0   3   1]\n",
      " [  2   3 209   5   2   0   1   3   3   0]\n",
      " [  0   0   6 170   0   5   1   1   6   2]\n",
      " [  0   0   5   0 155   1   4   1   0  12]\n",
      " [  1   0   2   8   2 163   1   0   5   4]\n",
      " [  4   0   1   0   2   0 203   0   1   0]\n",
      " [  0   1   8   2   3   0   0 198   3  10]\n",
      " [  1   1   0  14   1   5   1   0 176   3]\n",
      " [  2   0   2   2  16   0   0  15   1 170]]\n",
      "0.897645362806\n",
      "[[190   0   5   0   0   2   8   2   1   1]\n",
      " [  0 233   2   0   0   0   2   0   5   1]\n",
      " [  2   2 206   5   2   0   4   3   4   0]\n",
      " [  0   0   9 167   0   5   0   2   6   2]\n",
      " [  1   0   6   0 154   1   4   1   0  11]\n",
      " [  2   0   2   8   0 165   0   0   5   4]\n",
      " [  5   0   2   0   2   1 201   0   0   0]\n",
      " [  0   1   5   1   4   0   1 198   2  13]\n",
      " [  1   2   0  16   1   5   1   0 174   2]\n",
      " [  1   0   1   3  17   0   0  19   1 166]]\n",
      "0.890917827967\n",
      "[[192   0   3   1   1   1   7   2   1   1]\n",
      " [  0 233   2   0   0   1   2   0   4   1]\n",
      " [  2   2 208   3   4   0   2   4   3   0]\n",
      " [  0   0   8 167   0   4   1   3   7   1]\n",
      " [  0   0   4   0 156   1   4   3   0  10]\n",
      " [  1   0   3  10   0 163   2   0   4   3]\n",
      " [  5   0   1   0   4   1 199   0   1   0]\n",
      " [  1   1   6   2   4   0   1 197   1  12]\n",
      " [  2   1   1  11   3   8   0   0 175   1]\n",
      " [  1   0   2   2  18   2   0  13   1 169]]\n",
      "0.893320518981\n",
      "[[192   0   3   0   1   2   7   0   2   2]\n",
      " [  0 233   2   1   0   1   2   0   4   0]\n",
      " [  2   2 206   5   3   1   3   3   3   0]\n",
      " [  0   0   6 171   0   6   0   2   6   0]\n",
      " [  0   0   3   0 155   1   3   1   0  15]\n",
      " [  1   0   4   5   1 170   0   0   3   2]\n",
      " [  5   0   0   0   4   2 200   0   0   0]\n",
      " [  0   1   4   1   4   0   0 200   3  12]\n",
      " [  2   1   1  13   1   8   1   1 173   1]\n",
      " [  1   0   1   2  20   1   0  15   2 166]]\n",
      "0.896684286401\n",
      "[[192   0   3   0   0   2   7   2   2   1]\n",
      " [  0 234   1   2   1   0   2   0   2   1]\n",
      " [  4   2 210   2   2   0   1   4   3   0]\n",
      " [  0   0   9 166   0   6   0   3   5   2]\n",
      " [  0   0   2   0 161   1   3   1   0  10]\n",
      " [  2   0   3   5   1 170   0   0   3   2]\n",
      " [  3   0   1   0   4   2 201   0   0   0]\n",
      " [  1   1   8   1   5   0   0 197   2  10]\n",
      " [  1   1   2  12   3   8   0   0 173   2]\n",
      " [  1   0   1   2  18   1   0  14   1 170]]\n",
      "0.900528592023\n",
      "[[193   0   3   0   0   2   8   1   2   0]\n",
      " [  0 233   2   0   0   0   2   0   5   1]\n",
      " [  2   3 207   5   2   0   2   3   3   1]\n",
      " [  0   0  10 165   0   6   0   2   7   1]\n",
      " [  0   0   4   0 153   1   5   1   0  14]\n",
      " [  1   0   1   7   0 168   1   0   5   3]\n",
      " [  6   0   2   0   1   2 200   0   0   0]\n",
      " [  0   1   7   3   3   0   1 199   1  10]\n",
      " [  1   1   1  13   3   6   1   0 175   1]\n",
      " [  1   0   2   3  13   0   0  15   1 173]]\n",
      "0.896684286401\n",
      "[[190   0   4   1   1   2   7   2   1   1]\n",
      " [  0 233   2   0   0   0   2   0   5   1]\n",
      " [  3   2 209   4   2   0   2   4   2   0]\n",
      " [  1   0   6 170   0   4   0   3   5   2]\n",
      " [  0   0   5   0 158   0   3   1   0  11]\n",
      " [  1   0   1   8   1 164   1   1   6   3]\n",
      " [  4   0   1   0   2   0 202   0   2   0]\n",
      " [  1   1   5   2   5   0   0 198   1  12]\n",
      " [  1   1   1  10   0   8   0   0 179   2]\n",
      " [  1   0   2   2  12   1   0  12   1 177]]\n",
      "0.90341182124\n",
      "[[193   0   2   0   1   1   8   2   1   1]\n",
      " [  0 234   2   0   0   1   2   0   3   1]\n",
      " [  2   2 208   3   3   0   3   3   4   0]\n",
      " [  0   0  10 163   0   8   1   3   4   2]\n",
      " [  0   0   5   0 154   0   3   1   0  15]\n",
      " [  1   0   2   7   2 168   0   0   3   3]\n",
      " [  3   0   2   0   3   2 201   0   0   0]\n",
      " [  1   1   4   2   4   0   0 198   3  12]\n",
      " [  0   1   0  15   3   4   0   0 179   0]\n",
      " [  1   0   1   3  13   0   0  12   1 177]]\n",
      "0.901009130226\n",
      "[[192   0   4   0   0   1   9   1   1   1]\n",
      " [  0 233   2   0   0   0   2   0   5   1]\n",
      " [  2   2 208   4   2   0   4   3   3   0]\n",
      " [  0   0  10 168   0   6   0   2   5   0]\n",
      " [  0   0   5   0 157   1   2   1   0  12]\n",
      " [  1   0   3   6   1 166   0   1   6   2]\n",
      " [  3   0   1   0   2   0 203   0   2   0]\n",
      " [  0   1   7   1   4   0   0 199   1  12]\n",
      " [  1   1   0  11   1   6   1   0 179   2]\n",
      " [  1   0   2   3  13   0   0  12   1 176]]\n",
      "0.903892359443\n",
      "[[193   0   3   1   1   1   7   1   1   1]\n",
      " [  0 233   2   0   0   1   2   0   4   1]\n",
      " [  2   2 207   5   3   0   2   3   3   1]\n",
      " [  0   0   7 168   0   4   1   3   8   0]\n",
      " [  0   0   6   0 153   1   5   1   0  12]\n",
      " [  1   0   1   6   1 167   1   0   4   5]\n",
      " [  6   0   1   0   3   1 200   0   0   0]\n",
      " [  0   1   5   3   2   1   1 198   1  13]\n",
      " [  2   1   0   7   3   9   0   0 179   1]\n",
      " [  1   0   1   4  16   0   0  16   1 169]]\n",
      "0.897164824604\n",
      "[[195   0   2   0   1   1   7   1   2   0]\n",
      " [  0 233   2   1   0   0   2   0   4   1]\n",
      " [  1   2 210   4   2   0   3   3   3   0]\n",
      " [  0   0   9 168   0   5   0   3   6   0]\n",
      " [  0   0   4   0 156   1   3   1   0  13]\n",
      " [  1   0   3   6   0 165   3   0   4   4]\n",
      " [  3   0   1   0   3   2 202   0   0   0]\n",
      " [  1   0   5   1   6   0   0 199   1  12]\n",
      " [  1   2   1  11   1   5   1   0 179   1]\n",
      " [  1   0   2   3  16   0   0  17   1 168]]\n",
      "0.901009130226\n",
      "[[192   0   3   0   1   1   7   1   3   1]\n",
      " [  0 233   2   0   0   1   2   0   4   1]\n",
      " [  2   2 209   3   2   0   3   3   3   1]\n",
      " [  0   0  11 164   0   6   2   2   6   0]\n",
      " [  0   0   6   0 152   1   2   2   0  15]\n",
      " [  0   0   2   7   1 167   3   0   3   3]\n",
      " [  5   0   1   0   1   1 202   0   1   0]\n",
      " [  1   1   6   2   4   0   0 200   1  10]\n",
      " [  3   1   0  11   1   8   0   0 175   3]\n",
      " [  1   0   1   3  15   0   0  16   1 171]]\n",
      "0.896203748198\n",
      "[[193   0   3   0   1   1   8   1   1   1]\n",
      " [  0 233   2   0   0   1   2   0   4   1]\n",
      " [  1   2 210   3   2   0   2   3   5   0]\n",
      " [  0   0   9 169   0   5   0   3   4   1]\n",
      " [  0   0   5   0 158   1   4   1   0   9]\n",
      " [  0   0   3   5   1 170   2   0   2   3]\n",
      " [  4   0   1   0   4   1 200   0   1   0]\n",
      " [  1   0   6   1   4   0   0 201   1  11]\n",
      " [  3   1   2  12   0   4   0   0 177   3]\n",
      " [  2   0   1   3  16   0   0  14   2 170]]\n",
      "0.903892359443\n",
      "[[195   0   3   0   1   0   7   1   2   0]\n",
      " [  0 234   2   0   0   0   2   0   4   1]\n",
      " [  3   2 205   4   2   0   6   4   2   0]\n",
      " [  0   0   8 169   1   5   1   2   4   1]\n",
      " [  0   0   5   0 158   0   3   1   0  11]\n",
      " [  0   0   3   6   2 168   2   0   2   3]\n",
      " [  4   0   1   0   3   2 201   0   0   0]\n",
      " [  1   0   5   2   3   0   0 200   2  12]\n",
      " [  1   2   1  13   2   6   1   0 174   2]\n",
      " [  1   0   1   2  13   0   0  19   1 171]]\n",
      "0.901009130226\n",
      "[[195   0   2   1   1   0   6   1   2   1]\n",
      " [  0 232   2   0   0   1   2   1   5   0]\n",
      " [  2   4 208   2   3   0   2   3   4   0]\n",
      " [  0   0   9 165   0   7   2   2   5   1]\n",
      " [  0   0   3   0 160   1   4   1   0   9]\n",
      " [  1   0   2   9   1 165   2   1   3   2]\n",
      " [  4   0   4   0   2   1 200   0   0   0]\n",
      " [  1   0   5   2   6   0   0 198   1  12]\n",
      " [  1   2   2  12   1   4   1   1 176   2]\n",
      " [  2   0   1   2  10   0   0  17   1 175]]\n",
      "0.900528592023\n",
      "[[195   0   3   0   1   1   6   1   1   1]\n",
      " [  0 233   3   0   0   0   2   0   4   1]\n",
      " [  2   2 209   3   2   0   3   4   3   0]\n",
      " [  1   0   9 168   0   6   1   2   4   0]\n",
      " [  0   0   3   0 161   1   3   1   0   9]\n",
      " [  0   0   3   6   1 172   0   0   2   2]\n",
      " [  3   0   3   0   1   1 202   0   1   0]\n",
      " [  0   0   6   2   4   0   0 199   2  12]\n",
      " [  1   1   1  10   3   7   0   0 177   2]\n",
      " [  1   0   1   3  19   0   0  18   1 165]]\n",
      "0.903892359443\n",
      "[[193   0   3   0   1   1   8   1   1   1]\n",
      " [  0 233   2   0   0   0   2   0   5   1]\n",
      " [  2   2 207   5   2   0   3   4   3   0]\n",
      " [  1   0   7 172   0   4   0   2   5   0]\n",
      " [  0   0   4   0 156   1   4   0   1  12]\n",
      " [  0   0   2   7   0 170   1   1   2   3]\n",
      " [  4   0   3   0   2   1 201   0   0   0]\n",
      " [  1   0   6   1   7   0   0 199   1  10]\n",
      " [  1   2   2  11   1   7   0   0 176   2]\n",
      " [  1   0   1   2  19   0   0  13   2 170]]\n",
      "0.901970206631\n",
      "[[196   0   2   0   1   2   6   1   1   0]\n",
      " [  0 233   2   0   0   0   2   1   5   0]\n",
      " [  3   2 209   3   3   0   1   3   3   1]\n",
      " [  0   0   7 168   0   6   0   3   6   1]\n",
      " [  1   0   3   0 160   0   3   1   1   9]\n",
      " [  2   0   3   7   2 164   2   0   4   2]\n",
      " [  5   0   1   0   1   1 202   0   1   0]\n",
      " [  1   0   5   1   4   0   1 203   1   9]\n",
      " [  1   1   1  11   1   7   0   1 177   2]\n",
      " [  2   0   1   3  15   1   0  14   1 171]]\n",
      "0.904853435848\n",
      "[[195   0   4   0   0   0   6   1   3   0]\n",
      " [  0 234   2   0   0   1   2   0   4   0]\n",
      " [  1   2 213   2   2   0   1   3   4   0]\n",
      " [  1   0  11 163   0   5   2   2   5   2]\n",
      " [  0   0   4   0 160   0   2   1   0  11]\n",
      " [  0   0   2   7   1 167   2   0   4   3]\n",
      " [  5   0   2   0   2   0 201   0   1   0]\n",
      " [  1   0   6   1   5   1   1 201   1   8]\n",
      " [  1   1   0  13   2   7   1   0 175   2]\n",
      " [  0   0   2   5  13   0   0  14   1 173]]\n",
      "0.904372897645\n",
      "[[195   0   3   0   0   1   8   1   1   0]\n",
      " [  0 234   2   0   0   1   2   0   4   0]\n",
      " [  3   2 208   3   2   0   3   4   3   0]\n",
      " [  0   0  11 165   0   5   1   2   6   1]\n",
      " [  0   0   4   0 158   1   3   1   0  11]\n",
      " [  1   0   2   7   1 172   0   0   1   2]\n",
      " [  4   0   1   0   2   1 202   0   1   0]\n",
      " [  0   1   7   2   4   0   0 201   1   9]\n",
      " [  1   1   1  10   0  11   0   0 176   2]\n",
      " [  1   0   2   2  12   0   0  15   2 174]]\n",
      "0.905814512254\n",
      "[[197   0   2   1   0   1   6   1   1   0]\n",
      " [  0 233   2   0   0   0   2   0   5   1]\n",
      " [  2   2 209   5   2   0   1   4   3   0]\n",
      " [  0   0   8 171   0   5   0   2   5   0]\n",
      " [  0   0   4   0 158   1   3   1   0  11]\n",
      " [  0   0   5   5   0 170   1   0   3   2]\n",
      " [  4   0   3   0   1   2 199   1   1   0]\n",
      " [  0   0   8   3   2   0   0 201   2   9]\n",
      " [  2   1   1  10   2   7   0   0 177   2]\n",
      " [  1   0   2   4  14   1   0  13   2 171]]\n",
      "0.906295050457\n",
      "[[195   0   3   0   0   2   6   1   1   1]\n",
      " [  0 233   2   0   0   0   2   0   5   1]\n",
      " [  1   2 210   4   2   0   2   3   3   1]\n",
      " [  0   0   9 165   0   7   0   2   7   1]\n",
      " [  0   0   6   0 156   1   2   1   0  12]\n",
      " [  1   0   2   8   0 168   1   0   3   3]\n",
      " [  4   0   1   0   1   3 201   1   0   0]\n",
      " [  0   0   7   3   4   0   0 200   1  10]\n",
      " [  2   2   2  15   1   4   1   0 172   3]\n",
      " [  1   0   1   3  16   0   0  13   0 174]]\n",
      "0.900528592023\n",
      "[[195   0   2   0   1   1   8   1   1   0]\n",
      " [  0 233   3   1   0   1   2   0   3   0]\n",
      " [  1   2 209   4   2   0   3   4   3   0]\n",
      " [  0   0  12 164   0   6   0   3   6   0]\n",
      " [  0   0   3   0 161   0   3   1   0  10]\n",
      " [  0   0   3   6   0 169   1   1   2   4]\n",
      " [  7   0   2   0   2   0 199   0   1   0]\n",
      " [  0   0   6   1   3   0   1 200   2  12]\n",
      " [  2   2   0  10   2   4   0   0 179   3]\n",
      " [  1   0   1   3   8   0   0  16   2 177]]\n",
      "0.906295050457\n",
      "[[194   0   4   1   1   0   6   1   2   0]\n",
      " [  0 233   2   1   0   0   2   1   4   0]\n",
      " [  4   2 209   3   1   0   2   3   3   1]\n",
      " [  0   0   7 168   0   6   1   2   6   1]\n",
      " [  0   0   4   0 159   1   3   1   0  10]\n",
      " [  0   0   0   7   1 170   1   0   4   3]\n",
      " [  4   0   1   0   2   2 202   0   0   0]\n",
      " [  1   0   5   1   5   0   1 201   1  10]\n",
      " [  1   2   1  10   1   8   0   1 177   1]\n",
      " [  1   0   1   2  19   0   0  15   1 169]]\n",
      "0.904372897645\n",
      "[[196   0   2   0   1   1   6   1   2   0]\n",
      " [  0 233   2   0   0   0   2   1   5   0]\n",
      " [  2   2 207   4   2   0   4   3   3   1]\n",
      " [  1   0  11 169   0   3   1   2   4   0]\n",
      " [  0   0   3   0 161   0   2   1   0  11]\n",
      " [  1   0   1   8   1 169   1   0   2   3]\n",
      " [  3   0   2   0   2   1 202   0   1   0]\n",
      " [  0   0   7   2   4   0   1 198   1  12]\n",
      " [  1   2   1  12   2   8   1   0 172   3]\n",
      " [  1   0   1   2  15   0   0  15   1 173]]\n",
      "0.90341182124\n",
      "[[195   0   3   1   1   0   7   1   1   0]\n",
      " [  0 233   1   0   1   0   2   1   5   0]\n",
      " [  1   2 208   3   3   0   4   3   3   1]\n",
      " [  0   0  10 168   0   4   0   2   6   1]\n",
      " [  0   0   5   0 157   0   3   1   0  12]\n",
      " [  0   0   0   7   0 170   2   0   5   2]\n",
      " [  5   0   2   0   2   2 199   1   0   0]\n",
      " [  0   1   6   2   5   0   1 200   0  10]\n",
      " [  2   1   2  10   0   8   0   0 177   2]\n",
      " [  1   0   1   3  18   0   0  14   0 171]]\n",
      "0.902450744834\n",
      "[[196   0   2   0   1   1   7   1   1   0]\n",
      " [  0 233   3   0   0   0   2   0   4   1]\n",
      " [  2   2 207   5   2   0   3   4   3   0]\n",
      " [  0   0  10 168   0   4   1   2   5   1]\n",
      " [  0   0   4   0 159   1   2   1   0  11]\n",
      " [  0   0   1   8   3 163   3   1   3   4]\n",
      " [  6   0   2   0   2   0 199   0   2   0]\n",
      " [  0   1   8   3   4   0   0 199   1   9]\n",
      " [  0   1   1  13   1   7   1   0 176   2]\n",
      " [  2   0   1   3  12   0   0  14   1 175]]\n",
      "0.901009130226\n",
      "[[194   0   4   0   0   2   8   1   0   0]\n",
      " [  0 233   2   0   0   0   2   0   5   1]\n",
      " [  2   2 207   3   3   0   4   3   4   0]\n",
      " [  0   0   7 173   0   4   0   2   5   0]\n",
      " [  0   0   5   0 155   1   4   0   0  13]\n",
      " [  1   0   2   7   1 169   1   0   3   2]\n",
      " [  4   0   2   0   1   2 201   1   0   0]\n",
      " [  0   0   6   1   6   0   0 202   0  10]\n",
      " [  2   2   2  11   1   7   0   0 175   2]\n",
      " [  2   0   2   2  16   0   0  17   0 169]]\n",
      "0.902450744834\n"
     ]
    }
   ],
   "source": [
    "for reduced_number in range(20, 50):\n",
    "    pca, X_pca = do_pca(reduced_number, X)\n",
    "    fit_random_forest_classifier(X_pca, y)\n",
    "reduced_number = list(range(12, 50))"
   ]
  },
  {
   "cell_type": "code",
   "execution_count": 19,
   "metadata": {},
   "outputs": [
    {
     "data": {
      "image/png": "[encoded data removed]",
      "text/plain": [
       "<matplotlib.figure.Figure at 0x7f56f0a72128>"
      ]
     },
     "metadata": {},
     "output_type": "display_data"
    }
   ],
   "source": []
  },
  {
   "cell_type": "markdown",
   "metadata": {},
   "source": [
    "`9.` It is possible that extra features in the dataset even lead to overfitting or the [curse of dimensionality](https://stats.stackexchange.com/questions/65379/machine-learning-curse-of-dimensionality-explained).  Do you have evidence of this happening for this dataset?  Can you support your evidence with a visual or table?  To avoid printing out all of the metric results, I created another function called `fit_random_forest_classifier2`.  I ran through a significant number of components to create the visual for the solution, but I strongly recommend you look in the range below 100 principal components!"
   ]
  },
  {
   "cell_type": "code",
   "execution_count": 39,
   "metadata": {},
   "outputs": [],
   "source": [
    "accs = []\n",
    "comps = []\n",
    "for comp in range(2, 15):\n",
    "    comps.append(comp)\n",
    "    pca, X_pca = do_pca(comp, X)\n",
    "    acc = fit_random_forest_classifier2(X_pca, y)\n",
    "    accs.append(acc)"
   ]
  },
  {
   "cell_type": "code",
   "execution_count": 40,
   "metadata": {},
   "outputs": [
    {
     "data": {
      "image/png": "[encoded data removed]",
      "text/plain": [
       "<matplotlib.figure.Figure at 0x7f56e9658e80>"
      ]
     },
     "metadata": {
      "needs_background": "light"
     },
     "output_type": "display_data"
    }
   ],
   "source": [
    "plt.plot(comps, accs, 'bo');\n",
    "plt.xlabel('Number of Components');\n",
    "plt.ylabel('Accuracy');\n",
    "plt.title('Number of Components by Accuracy');"
   ]
  },
  {
   "cell_type": "code",
   "execution_count": 41,
   "metadata": {},
   "outputs": [
    {
     "data": {
      "text/plain": [
       "(0.87025468524747718, 13)"
      ]
     },
     "execution_count": 41,
     "metadata": {},
     "output_type": "execute_result"
    }
   ],
   "source": [
    "# The max accuracy and corresponding number of components\n",
    "np.max(accs), comps[np.where(accs == np.max(accs))[0][0]]"
   ]
  },
  {
   "cell_type": "markdown",
   "metadata": {},
   "source": [
    " "
   ]
  },
  {
   "cell_type": "code",
   "execution_count": null,
   "metadata": {
    "collapsed": true
   },
   "outputs": [],
   "source": []
  }
 ],
 "metadata": {
  "kernelspec": {
   "display_name": "Python 3",
   "language": "python",
   "name": "python3"
  },
  "language_info": {
   "codemirror_mode": {
    "name": "ipython",
    "version": 3
   },
   "file_extension": ".py",
   "mimetype": "text/x-python",
   "name": "python",
   "nbconvert_exporter": "python",
   "pygments_lexer": "ipython3",
   "version": "3.6.3"
  }
 },
 "nbformat": 4,
 "nbformat_minor": 2
}
